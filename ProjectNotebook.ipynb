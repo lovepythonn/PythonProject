{
 "cells": [
  {
   "cell_type": "code",
   "execution_count": 5,
   "metadata": {},
   "outputs": [],
   "source": [
    "#Project overview: I created a chatbot that takes colors or tones as inputs \n",
    "#and then the output is either the colors that are complementary \n",
    "#colors to the inputted color or what colors classify as warm or cool tones."
   ]
  },
  {
   "cell_type": "code",
   "execution_count": 4,
   "metadata": {},
   "outputs": [],
   "source": [
    "import string\n",
    "import random \n",
    "import nltk\n",
    "import functions"
   ]
  },
  {
   "cell_type": "code",
   "execution_count": 5,
   "metadata": {},
   "outputs": [],
   "source": [
    "# This cell defines a collection of input and output things the chatbot can say and respond to\n",
    "#greetings, unknown and question were taken from A3\n",
    "\n",
    "GREETINGS_IN = ['hello', 'hi', 'hey', 'hola', 'welcome', 'bonjour', 'greetings']\n",
    "GREETINGS_OUT = [\"Type in the color's complementary color you wanna know\" \\\n",
    "                 \" or type in warm or cool to see which colors are warm or cool\"]\n",
    "\n",
    "COLORS_IN = [\"black\", \"white\", \"grey\", \"gray\", \"red\", \"green\", \"orange\", \"blue\", \"yellow\", \"purple\"]\n",
    "COLORS_OUT = [\"Neutral color: any color will match even similar shades of that color\", \"green\", \"red\", \"blue\", \"orange\", \"purple\", \"yellow\"]\n",
    "\n",
    "TEMPERATURE_IN =[\"warm\", \"cool\"]\n",
    "TEMPERATURE_OUT =[\"red, orange, yellow, purple\", \"green, blue\"]\n",
    "\n",
    "UNKNOWN = [\"Thats not in my vocabulary\"]\n",
    "\n",
    "QUESTION = \"Sorry I can't answer questions\""
   ]
  },
  {
   "cell_type": "code",
   "execution_count": 6,
   "metadata": {},
   "outputs": [],
   "source": [
    "#def have_a_chat's format was taken from A3\n",
    "def have_a_chat():\n",
    "    \"\"\"Main function to run the chatbot.\"\"\"\n",
    "    \n",
    "    chat = True\n",
    "    while chat:\n",
    "\n",
    "        # Get a message from the user\n",
    "        msg = input('INPUT :\\t')\n",
    "        out_msg = None\n",
    "\n",
    "        # Check if the input is a question\n",
    "        question = functions.is_question(msg)\n",
    "\n",
    "        # Prepare the input message\n",
    "        msg = functions.prepare_text(msg)\n",
    "\n",
    "        # Check for an end msg \n",
    "        if functions.end_chat(msg):\n",
    "            out_msg = 'Bye!'\n",
    "            chat = False\n",
    "\n",
    "        # Check for a selection of topics that we have defined to respond to\n",
    "        #   Here, we will check for a series of topics that we have designed to answer to\n",
    "        if not out_msg:\n",
    "\n",
    "            # Initialize to collect a list of possible outputs\n",
    "            outs = []\n",
    "            \n",
    "            outs.append(functions.selector(msg, GREETINGS_IN, GREETINGS_OUT))\n",
    "\n",
    "            #Original functions here\n",
    "            outs.append(functions.neutral_colors(msg, COLORS_IN, COLORS_OUT))\n",
    "            outs.append(functions.comp_colors(msg, COLORS_IN, COLORS_OUT))\n",
    "            outs.append(functions.warm_or_cool(msg, TEMPERATURE_IN, TEMPERATURE_OUT))\n",
    "            \n",
    "            # We could have selected multiple outputs from the topic search above (if multiple return possible outputs)\n",
    "            #   We also might have appended None in some cases, meaning we don't have a reply\n",
    "            #   To deal with this, we are going to randomly select an output from the set of outputs that are not None\n",
    "            options = list(filter(None, outs))\n",
    "            if options:\n",
    "                out_msg = random.choice(options)\n",
    "\n",
    "        # If we don't have an output yet, but the input was a question, return msg related to it being a question\n",
    "        if not out_msg and question:\n",
    "            out_msg = QUESTION\n",
    "\n",
    "        # Catch-all to say something if msg not caught & processed so far\n",
    "        if not out_msg:\n",
    "            out_msg = random.choice(UNKNOWN)\n",
    "\n",
    "        print('OUTPUT:', out_msg)"
   ]
  },
  {
   "cell_type": "code",
   "execution_count": 7,
   "metadata": {},
   "outputs": [
    {
     "name": "stdout",
     "output_type": "stream",
     "text": [
      "INPUT :\thi\n",
      "OUTPUT: Type in the color's complementary color you wanna know or type in warm or cool to see which colors are warm or cool\n",
      "INPUT :\tfdlsafdja\n",
      "OUTPUT: Thats not in my vocabulary\n",
      "INPUT :\tred\n",
      "OUTPUT: green\n",
      "INPUT :\tblack\n",
      "OUTPUT: Neutral color: any color will match even similar shades of that color\n",
      "INPUT :\tquit\n",
      "OUTPUT: Bye!\n"
     ]
    }
   ],
   "source": [
    "have_a_chat()"
   ]
  },
  {
   "cell_type": "code",
   "execution_count": null,
   "metadata": {},
   "outputs": [],
   "source": []
  },
  {
   "cell_type": "code",
   "execution_count": null,
   "metadata": {},
   "outputs": [],
   "source": []
  }
 ],
 "metadata": {
  "kernelspec": {
   "display_name": "Python 3",
   "language": "python",
   "name": "python3"
  },
  "language_info": {
   "codemirror_mode": {
    "name": "ipython",
    "version": 3
   },
   "file_extension": ".py",
   "mimetype": "text/x-python",
   "name": "python",
   "nbconvert_exporter": "python",
   "pygments_lexer": "ipython3",
   "version": "3.6.7"
  }
 },
 "nbformat": 4,
 "nbformat_minor": 2
}
